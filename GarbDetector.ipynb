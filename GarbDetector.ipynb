{
 "cells": [
  {
   "attachments": {},
   "cell_type": "markdown",
   "metadata": {},
   "source": [
    "## -=Подготовка к запуску=-"
   ]
  },
  {
   "attachments": {},
   "cell_type": "markdown",
   "metadata": {},
   "source": [
    "### Установка пакетов"
   ]
  },
  {
   "attachments": {},
   "cell_type": "markdown",
   "metadata": {},
   "source": [
    "В случае, если пакеты через requirements.тхт установлены не были, блок ниже установит все необходимые пакеты для работы данного блокнота."
   ]
  },
  {
   "cell_type": "code",
   "execution_count": null,
   "metadata": {},
   "outputs": [],
   "source": [
    "%pip install ultralytics==8.0.198\n",
    "%pip install Pillow==10.0.1\n",
    "%pip install numpy==1.24.3\n",
    "%pip install opencv-python==4.6.0.66"
   ]
  },
  {
   "attachments": {},
   "cell_type": "markdown",
   "metadata": {},
   "source": [
    "### Импорт библиотек"
   ]
  },
  {
   "cell_type": "code",
   "execution_count": null,
   "metadata": {},
   "outputs": [],
   "source": [
    "import cv2\n",
    "import numpy as np\n",
    "from PIL import Image\n",
    "from ultralytics import YOLO\n",
    "import os"
   ]
  },
  {
   "attachments": {},
   "cell_type": "markdown",
   "metadata": {},
   "source": [
    "Импорт функций из detectors.py, в данном файле находятся все функции связанные с детекцией и моделями, они вынесены в отдельный файл для удобства работы."
   ]
  },
  {
   "cell_type": "code",
   "execution_count": null,
   "metadata": {},
   "outputs": [],
   "source": [
    "import detectors"
   ]
  },
  {
   "cell_type": "markdown",
   "metadata": {},
   "source": [
    "Импорт вспомогательных функций из utils.py, вынесены вотдельный файл так же для удобства."
   ]
  },
  {
   "cell_type": "code",
   "execution_count": null,
   "metadata": {},
   "outputs": [],
   "source": [
    "import utils"
   ]
  },
  {
   "attachments": {},
   "cell_type": "markdown",
   "metadata": {},
   "source": [
    "## -=Загрузка моделей=-"
   ]
  },
  {
   "cell_type": "code",
   "execution_count": null,
   "metadata": {},
   "outputs": [],
   "source": [
    "model0 = YOLO(\"models/seg_n_aug.pt\")\n",
    "model1 = YOLO(\"models/cls_seg_garb_aug.pt\")\n",
    "model2 = YOLO(\"models/cls_truck.pt\")\n",
    "model3 = YOLO(\"models/det_garbage_aug.pt\")\n",
    "model4 = YOLO(\"models/cls_correct.pt\")\n",
    "model5 = YOLO(\"models/cls_det_garbage_n_aug.pt\")\n",
    "model_ans_det1 = YOLO(\"models/cls_ans_det1.pt\") #n\n",
    "model_ans_det2 = YOLO(\"models/cls_ans_det2.pt\") #n\n",
    "model_ans_det3 = YOLO(\"models/cls_ans_det3.pt\") #m\n",
    "model_ans_seg1 = YOLO(\"models/cls_ans_seg1.pt\") #n\n",
    "model_ans_seg2 = YOLO(\"models/cls_ans_seg2.pt\") #n\n",
    "model_ans_seg3 = YOLO(\"models/cls_ans_seg3.pt\") #m\n",
    "models_all = [model0, model1, model2, model3, model4, model5, model_ans_det1, model_ans_det2, model_ans_det3, model_ans_seg1, model_ans_seg2, model_ans_seg3]"
   ]
  },
  {
   "cell_type": "markdown",
   "metadata": {},
   "source": [
    "## -=Общая информация=-\n",
    "### Все функции связанные с запуском моделей находятся в detectors.py\n",
    "\n",
    "### Мы разработали два \"пути\" моеделей, каждый включает в себя обработку пятью моделями\n",
    "Оба пути включают в себя первые две модели-классификатора, \n",
    "первая оценивает валидность фотографии для оценивания, \n",
    "вторая - валидность расположения грузовика для оценки.\n",
    "Если изображение не проходит хотя бы одну из этих моделей - дальнейшая детекция не происходит, для экономии времени.\n",
    "#### Первый путь - \"быстрый\", включает в себя детекцию, а затем классификацию\n",
    "#### Второй путь - \"точный\", включает в себя сегментацию, а затем классификацию\n",
    "Также у обоих путей можно включить дополнительную оценку ансамблем, это увеличивает длительность оценки, но повышает точность за счет задействования дополнительных классификаторов."
   ]
  },
  {
   "cell_type": "markdown",
   "metadata": {},
   "source": [
    "## -=Обработка видео=-"
   ]
  },
  {
   "cell_type": "markdown",
   "metadata": {},
   "source": [
    "### Обработка видео равноценно обработке множества кадров этого видео"
   ]
  },
  {
   "cell_type": "markdown",
   "metadata": {},
   "source": [
    "Разобъём видео на кадры в рамках указанного интервала, для этого воспользуемся функцией из utils"
   ]
  },
  {
   "cell_type": "code",
   "execution_count": null,
   "metadata": {},
   "outputs": [],
   "source": [
    "#Функция возвращает адрес внременного хранилища фреймов, так как если выставить большой промежуток, фреймов становится много и они забивают ОЗУ\n",
    "#А также функция возвращает ФПС, вдруг пригодится\n",
    "frames_folder, fps = utils.video_to_frames(\"examples/3336399.mp4\", 110, 130, 20)"
   ]
  },
  {
   "cell_type": "markdown",
   "metadata": {},
   "source": [
    "Получим пути к кадрам для работы с ними"
   ]
  },
  {
   "cell_type": "code",
   "execution_count": null,
   "metadata": {},
   "outputs": [],
   "source": [
    "frames_paths = []\n",
    "\n",
    "for root, dirs, files in os.walk(frames_folder):\n",
    "    for file in files:\n",
    "        frames_paths.append(os.path.join(root, file))\n",
    "\n",
    "print(frames_paths)"
   ]
  },
  {
   "cell_type": "markdown",
   "metadata": {},
   "source": [
    "Проверим, подходит ли содержимое фреймов для оценки, или видео неккоректно\n",
    "#### 0 - кадр корректен, 1 - нет"
   ]
  },
  {
   "cell_type": "code",
   "execution_count": null,
   "metadata": {},
   "outputs": [],
   "source": [
    "results_list = []\n",
    "for frame in frames_paths:\n",
    "    img, results = detectors.run_model(models_all, frame, \"class_correct\")\n",
    "    results_list.append(results[0].probs.top1)\n",
    "results_list"
   ]
  },
  {
   "cell_type": "markdown",
   "metadata": {},
   "source": [
    "Как мы видим, все фреймы прошли первую проверку, но на всякий случай отсортируем их"
   ]
  },
  {
   "cell_type": "code",
   "execution_count": null,
   "metadata": {},
   "outputs": [],
   "source": [
    "first_check_list = []\n",
    "for idx, result in enumerate(results_list):\n",
    "    if result == 0:\n",
    "        first_check_list.append(frames_paths[idx])\n",
    "first_check_list"
   ]
  },
  {
   "cell_type": "markdown",
   "metadata": {},
   "source": [
    "Проверим, на всех ли кадрах хорошо виден кузов\n",
    "#### 1 - да, 0 - нет"
   ]
  },
  {
   "cell_type": "code",
   "execution_count": null,
   "metadata": {},
   "outputs": [],
   "source": [
    "results_list = []\n",
    "for frame in first_check_list:\n",
    "    img, results = detectors.run_model(models_all, frame, \"class_truck\")\n",
    "    results_list.append(results[0].probs.top1)\n",
    "results_list"
   ]
  },
  {
   "cell_type": "markdown",
   "metadata": {},
   "source": [
    "Как можно заметить, кадров на которых система может разглядеть содержимое не так уж и много, даже проявилась аномалия, отберём фреймы"
   ]
  },
  {
   "cell_type": "code",
   "execution_count": null,
   "metadata": {},
   "outputs": [],
   "source": [
    "second_check_list = []\n",
    "for idx, result in enumerate(results_list):\n",
    "    if result == 1:\n",
    "        second_check_list.append(frames_paths[idx])\n",
    "second_check_list"
   ]
  },
  {
   "cell_type": "markdown",
   "metadata": {},
   "source": [
    "### Есть два способа использования моделей - каждой по отдельности, либо же использовать функцию с уже скомбинированным применением, сначала пройдёмся по одиночным использованиям."
   ]
  },
  {
   "attachments": {},
   "cell_type": "markdown",
   "metadata": {},
   "source": [
    "## -=Сегментация-Классификация-Ансамбль=-"
   ]
  },
  {
   "attachments": {},
   "cell_type": "markdown",
   "metadata": {},
   "source": [
    "### Сегментация содержимого кузова и его классификация\n",
    "### Для того чтобы провести максимально точный анализ, необходимо проводить анализ всех фереймов и выбирать итоговый результат по болшинству."
   ]
  },
  {
   "attachments": {},
   "cell_type": "markdown",
   "metadata": {},
   "source": [
    "Загрузка изображений"
   ]
  },
  {
   "cell_type": "code",
   "execution_count": null,
   "metadata": {},
   "outputs": [],
   "source": [
    "images = []\n",
    "for frame in second_check_list:\n",
    "    image = Image.open(frame)\n",
    "    images.append(image)\n",
    "#Покажем какое-нибудь загруженное изображение, его в дальнейшем и будем показывать\n",
    "display(images[-1])"
   ]
  },
  {
   "attachments": {},
   "cell_type": "markdown",
   "metadata": {},
   "source": [
    "Сегментация"
   ]
  },
  {
   "cell_type": "code",
   "execution_count": null,
   "metadata": {},
   "outputs": [],
   "source": [
    "segmentations_list = []\n",
    "for image in images:\n",
    "    image, results = detectors.run_model(models_all, image, \"segment\")\n",
    "    segmentations_list.append(results)\n",
    "display(image)\n"
   ]
  },
  {
   "cell_type": "markdown",
   "metadata": {},
   "source": [
    "Получение маски берёт результаты полученные в сегментации"
   ]
  },
  {
   "cell_type": "code",
   "execution_count": null,
   "metadata": {},
   "outputs": [],
   "source": [
    "masks_list = []\n",
    "for result in segmentations_list:\n",
    "    mask = detectors.get_mask(result)\n",
    "    mask = Image.fromarray(mask)\n",
    "    masks_list.append(mask)\n",
    "display(mask)"
   ]
  },
  {
   "cell_type": "markdown",
   "metadata": {},
   "source": [
    "Получение прогноза классификатора из масок"
   ]
  },
  {
   "cell_type": "code",
   "execution_count": null,
   "metadata": {},
   "outputs": [],
   "source": [
    "classifications = []\n",
    "for mask in masks_list:\n",
    "    cls_seg_image, cls_seg_results = detectors.run_model(models_all, mask, \"class_segment\")\n",
    "    classifications.append(cls_seg_results[0].probs.top1)\n",
    "print(classifications)\n",
    "cls_seg_image"
   ]
  },
  {
   "cell_type": "markdown",
   "metadata": {},
   "source": [
    "Так как кадров несколько, увеличим точность за счет голосования, в данном случае это не имеет особого смысла, но в случае, если бы \"мнения\" расходились у меньшинства, большинство бы свела ответ в верную сторону"
   ]
  },
  {
   "cell_type": "code",
   "execution_count": null,
   "metadata": {},
   "outputs": [],
   "source": [
    "most_common_class = utils.most_common(classifications)\n",
    "most_common_class"
   ]
  },
  {
   "cell_type": "markdown",
   "metadata": {},
   "source": [
    "Как и ожидалось, классификаторы оценили всё как 1, т.е. бетон, что правильно для данного видео"
   ]
  },
  {
   "cell_type": "markdown",
   "metadata": {},
   "source": [
    "### Приминение ансамбля"
   ]
  },
  {
   "cell_type": "markdown",
   "metadata": {},
   "source": [
    "Применение модуля ансамблирования может повысить точность, пусть сейчас это и не имеет особого смысла, я покажу как его можно применить"
   ]
  },
  {
   "cell_type": "markdown",
   "metadata": {},
   "source": [
    "В данном проекте имеются два ансамбля, один для детектора, второй для сегментатора, это связано с тем, что их классификаторы обучались на отличающихся данных и использование единого ансамбля может навредить точности, если дополнительно не конфигрировать \"вес\" выводов."
   ]
  },
  {
   "cell_type": "code",
   "execution_count": null,
   "metadata": {},
   "outputs": [],
   "source": [
    "#Используются маски для классификации\n",
    "results_list = []\n",
    "for mask in masks_list:\n",
    "    result = detectors.ensemble_detect(models_all, mask, \"segment\")\n",
    "    results_list.append(result)\n",
    "utils.most_common(results_list)"
   ]
  },
  {
   "cell_type": "markdown",
   "metadata": {},
   "source": [
    "## -=Детекция-Классификация-Ансамбль=-"
   ]
  },
  {
   "cell_type": "markdown",
   "metadata": {},
   "source": [
    "### Детекция содержимого кузова и его классификация\n",
    "В случае детекции всё рактически то же самое, только вместо сегментирования используется детекция, что позволяет повысить точность не используя ансамбль, но детекция сильнее подвержена ложным срабатываниям"
   ]
  },
  {
   "cell_type": "markdown",
   "metadata": {},
   "source": [
    "Все этапы те же самые, потому коментариев в этой части меньше"
   ]
  },
  {
   "cell_type": "code",
   "execution_count": null,
   "metadata": {},
   "outputs": [],
   "source": [
    "images = []\n",
    "for frame in second_check_list:\n",
    "    image = Image.open(frame)\n",
    "    images.append(image)\n",
    "#Покажем какое-нибудь загруженное изображение, его в дальнейшем и будем показывать\n",
    "display(images[-1])"
   ]
  },
  {
   "cell_type": "markdown",
   "metadata": {},
   "source": [
    "Детекция"
   ]
  },
  {
   "cell_type": "code",
   "execution_count": null,
   "metadata": {},
   "outputs": [],
   "source": [
    "detections_list = []\n",
    "detection_results = []\n",
    "for image in images:\n",
    "    image, results = detectors.run_model(models_all, image, \"detect\")\n",
    "    detections_list.append(results)\n",
    "    detection_results.append(results[0].boxes.cls[0].cpu().numpy().astype(int))\n",
    "main_detection_result = utils.most_common(detection_results)\n",
    "#main_result понадобится для дальнейшего голосования\n",
    "print(main_detection_result)\n",
    "display(image)\n"
   ]
  },
  {
   "cell_type": "markdown",
   "metadata": {},
   "source": [
    "Как видно из изображения, детектор уже готов сказать, чем является содержимое кузова и все детекторы говорят одно и то же"
   ]
  },
  {
   "cell_type": "markdown",
   "metadata": {},
   "source": [
    "Получение кропа берёт переменные полученные в детекции"
   ]
  },
  {
   "cell_type": "code",
   "execution_count": null,
   "metadata": {},
   "outputs": [],
   "source": [
    "crops_list = []\n",
    "for result in detections_list:\n",
    "    crop = detectors.get_crop(result)\n",
    "    crop = Image.fromarray(crop)\n",
    "    crops_list.append(crop)\n",
    "display(crop)"
   ]
  },
  {
   "cell_type": "markdown",
   "metadata": {},
   "source": [
    "Получение прогноза классификатора"
   ]
  },
  {
   "cell_type": "code",
   "execution_count": null,
   "metadata": {},
   "outputs": [],
   "source": [
    "classifications = []\n",
    "for crop in crops_list:\n",
    "    cls_det_image, cls_det_results = detectors.run_model(models_all, crop, \"class_detect\")\n",
    "    classifications.append(cls_det_results[0].probs.top1)\n",
    "print(classifications)\n",
    "cls_det_image"
   ]
  },
  {
   "cell_type": "markdown",
   "metadata": {},
   "source": [
    "Система может вынести обобщённый ответ и без ассамблеи, но детектор обладает тенденцией делать оишбочные показания, потому этот метод более быстрый, но менее точный."
   ]
  },
  {
   "cell_type": "markdown",
   "metadata": {},
   "source": [
    "Пусть в этот раз нам и повезло, но это связано с тем, что изображения достаточно качественные."
   ]
  },
  {
   "cell_type": "code",
   "execution_count": null,
   "metadata": {},
   "outputs": [],
   "source": [
    "classifications.append(main_detection_result)\n",
    "result = utils.most_common(classifications)\n",
    "result"
   ]
  },
  {
   "cell_type": "markdown",
   "metadata": {},
   "source": [
    "Ансамблирование делать нет смысла, так как его запуск будет отличаться только одним параметром, вместо \"segment\" нужно будет написать \"detect\""
   ]
  },
  {
   "cell_type": "markdown",
   "metadata": {},
   "source": [
    "## -=Объединённые функции=-\n",
    "### Эти функции объединяют в себе все предыдущие, по сути, это упрощает запуск модели, назовём полный запуск циклом.\n",
    "\n"
   ]
  },
  {
   "cell_type": "code",
   "execution_count": null,
   "metadata": {},
   "outputs": [],
   "source": [
    "#В функцию подаются все модели, \n",
    "#данные(путь к видео), \n",
    "#указывается тип данных(по стандарту - видео), \n",
    "#указываются параметри видео списком [секунда начала, секунда конца, пропуск кадров], по стандарту - [110, 130, 20]\n",
    "#указывается необходимость запуска ансамбля(по стандарту вкл.), \n",
    "#и указывается \"путь\": \"fast\" или \"accurate\"(по стандарту \"accurate\")\n",
    "result = detectors.run_full_cycle(models_all, \"examples/3334137.mp4\", ensemble=True, type=\"video\", route=\"accurate\")\n",
    "result"
   ]
  }
 ],
 "metadata": {
  "kernelspec": {
   "display_name": "Python 3",
   "language": "python",
   "name": "python3"
  },
  "language_info": {
   "codemirror_mode": {
    "name": "ipython",
    "version": 3
   },
   "file_extension": ".py",
   "mimetype": "text/x-python",
   "name": "python",
   "nbconvert_exporter": "python",
   "pygments_lexer": "ipython3",
   "version": "3.10.11"
  },
  "orig_nbformat": 4
 },
 "nbformat": 4,
 "nbformat_minor": 2
}
